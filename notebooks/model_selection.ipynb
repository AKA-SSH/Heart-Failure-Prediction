{
 "cells": [
  {
   "cell_type": "markdown",
   "id": "e2adb0ed-5a94-4eae-81c1-da0af07e257c",
   "metadata": {},
   "source": [
    "## Prerequisites"
   ]
  },
  {
   "cell_type": "code",
   "execution_count": 1,
   "id": "a56a3d67-9367-4494-bacc-e2a31254695f",
   "metadata": {},
   "outputs": [],
   "source": [
    "import os\n",
    "\n",
    "# data manipulation\n",
    "import numpy as np\n",
    "import pandas as pd\n",
    "\n",
    "# data representation\n",
    "import seaborn as sns\n",
    "import matplotlib.pyplot as plt\n",
    "\n",
    "# preprocessing\n",
    "from sklearn.model_selection import train_test_split\n",
    "from sklearn.preprocessing import OneHotEncoder, MinMaxScaler\n",
    "from sklearn.compose import ColumnTransformer\n",
    "\n",
    "# machine learning models\n",
    "from sklearn.linear_model import LogisticRegression\n",
    "from sklearn.svm import SVC\n",
    "from sklearn.ensemble import RandomForestClassifier, AdaBoostClassifier\n",
    "from lightgbm import LGBMClassifier\n",
    "from catboost import CatBoostClassifier\n",
    "from xgboost import XGBClassifier\n",
    "\n",
    "# hyperparameter tuning\n",
    "import optuna\n",
    "\n",
    "# evaluation metrics for classification\n",
    "from sklearn.metrics import accuracy_score, recall_score, confusion_matrix"
   ]
  },
  {
   "cell_type": "markdown",
   "id": "b6163bc2-049d-4279-8d11-cdd64b66647f",
   "metadata": {
    "jp-MarkdownHeadingCollapsed": true
   },
   "source": [
    "## Data Ingestion"
   ]
  },
  {
   "cell_type": "code",
   "execution_count": 2,
   "id": "871ae446-b9d1-4637-b813-c1bee6105a7d",
   "metadata": {},
   "outputs": [],
   "source": [
    "os.chdir('..')\n",
    "os.chdir('data')\n",
    "dataframe= pd.read_csv('heart_failure_prediction_dataset.csv')\n",
    "os.chdir('..')\n",
    "os.chdir('notebooks')"
   ]
  },
  {
   "cell_type": "markdown",
   "id": "add616f1-0a5e-4509-991f-ba3ed4102f94",
   "metadata": {},
   "source": [
    "## Data Transformation"
   ]
  },
  {
   "cell_type": "markdown",
   "id": "ab884750-0eb3-44e1-b3d4-854a88ce484e",
   "metadata": {},
   "source": [
    "### Handling Data Integrity Issues"
   ]
  },
  {
   "cell_type": "markdown",
   "id": "6a3c1d7d-e591-4af5-8a32-14ad7c227e90",
   "metadata": {},
   "source": [
    "#### Handling Data of RestingBP"
   ]
  },
  {
   "cell_type": "markdown",
   "id": "e5732dee-e9d5-41e6-af18-9be226b8ba3e",
   "metadata": {},
   "source": [
    "##### Using IQR for calculating Lower Bound ."
   ]
  },
  {
   "cell_type": "code",
   "execution_count": 3,
   "id": "9cc6f007-b366-496d-89e4-45bfa04d1afd",
   "metadata": {},
   "outputs": [],
   "source": [
    "Q1= np.percentile(dataframe.RestingBP, 25)\n",
    "Q3= np.percentile(dataframe.RestingBP, 75)\n",
    "# InterQuartile Range = Third Quartile - First Quartile\n",
    "IQR= Q3-Q1\n",
    "# Lower Bound = First Quartile - contant x Inter Quartile Range\n",
    "LB= Q1 - 1.5*IQR\n",
    "\n",
    "dataframe.RestingBP= list(map(lambda x: LB if x < LB else x, dataframe.RestingBP))"
   ]
  },
  {
   "cell_type": "markdown",
   "id": "66a779ad-06e1-4086-98e5-1b36f17a693d",
   "metadata": {},
   "source": [
    "#### Handling Data of Cholesterol"
   ]
  },
  {
   "cell_type": "markdown",
   "id": "8c3c8da7-56c6-4575-93be-7f767ce9bdcd",
   "metadata": {},
   "source": [
    "##### Using median value of Cholesterol column for patients with heart disease ."
   ]
  },
  {
   "cell_type": "code",
   "execution_count": 4,
   "id": "b3416dfe-456c-49d2-85dc-3e6e0fae8310",
   "metadata": {},
   "outputs": [],
   "source": [
    "heart_patient_cholesterol= dataframe[dataframe.HeartDisease == 1].Cholesterol\n",
    "heart_patient_cholesterol = [i for i in heart_patient_cholesterol if i>125]"
   ]
  },
  {
   "cell_type": "markdown",
   "id": "a585c1d0-bc44-4a54-9551-2c26a06677fe",
   "metadata": {},
   "source": [
    "##### Discounting data points from heart_patient_cholesterol list with Cholesterol below 125 ."
   ]
  },
  {
   "cell_type": "code",
   "execution_count": 5,
   "id": "f134799e-80f5-40ef-aa47-fb5448b86774",
   "metadata": {},
   "outputs": [],
   "source": [
    "median_cholesterol= np.percentile(heart_patient_cholesterol, 50)"
   ]
  },
  {
   "cell_type": "code",
   "execution_count": 6,
   "id": "ba559487-7ce8-47f5-807b-6b2689dd2cc4",
   "metadata": {},
   "outputs": [],
   "source": [
    "dataframe.Cholesterol= list(map(lambda x: median_cholesterol if x < 125 else x, dataframe.Cholesterol))"
   ]
  },
  {
   "cell_type": "markdown",
   "id": "0303338f-03d8-426a-97f7-0e25c9f73267",
   "metadata": {},
   "source": [
    "### Feature - Target Separation"
   ]
  },
  {
   "cell_type": "code",
   "execution_count": 7,
   "id": "940159b1-0d53-476f-99c1-dc86be544c0e",
   "metadata": {},
   "outputs": [],
   "source": [
    "features, target= dataframe.iloc[:, :-1], dataframe.iloc[:, -1]"
   ]
  },
  {
   "cell_type": "markdown",
   "id": "73230c01-ff40-4efb-9811-935940d56228",
   "metadata": {},
   "source": [
    "### Numerical and Categorical Features Separation"
   ]
  },
  {
   "cell_type": "code",
   "execution_count": 8,
   "id": "30aa328e-e57a-4ada-adbb-e70c8ea3f552",
   "metadata": {},
   "outputs": [
    {
     "data": {
      "text/html": [
       "<div>\n",
       "<style scoped>\n",
       "    .dataframe tbody tr th:only-of-type {\n",
       "        vertical-align: middle;\n",
       "    }\n",
       "\n",
       "    .dataframe tbody tr th {\n",
       "        vertical-align: top;\n",
       "    }\n",
       "\n",
       "    .dataframe thead th {\n",
       "        text-align: right;\n",
       "    }\n",
       "</style>\n",
       "<table border=\"1\" class=\"dataframe\">\n",
       "  <thead>\n",
       "    <tr style=\"text-align: right;\">\n",
       "      <th></th>\n",
       "      <th>Age</th>\n",
       "      <th>Sex</th>\n",
       "      <th>ChestPainType</th>\n",
       "      <th>RestingBP</th>\n",
       "      <th>Cholesterol</th>\n",
       "      <th>FastingBS</th>\n",
       "      <th>RestingECG</th>\n",
       "      <th>MaxHR</th>\n",
       "      <th>ExerciseAngina</th>\n",
       "      <th>Oldpeak</th>\n",
       "      <th>ST_Slope</th>\n",
       "    </tr>\n",
       "  </thead>\n",
       "  <tbody>\n",
       "    <tr>\n",
       "      <th>0</th>\n",
       "      <td>40</td>\n",
       "      <td>M</td>\n",
       "      <td>ATA</td>\n",
       "      <td>140.0</td>\n",
       "      <td>289.0</td>\n",
       "      <td>0</td>\n",
       "      <td>Normal</td>\n",
       "      <td>172</td>\n",
       "      <td>N</td>\n",
       "      <td>0.0</td>\n",
       "      <td>Up</td>\n",
       "    </tr>\n",
       "    <tr>\n",
       "      <th>1</th>\n",
       "      <td>49</td>\n",
       "      <td>F</td>\n",
       "      <td>NAP</td>\n",
       "      <td>160.0</td>\n",
       "      <td>180.0</td>\n",
       "      <td>0</td>\n",
       "      <td>Normal</td>\n",
       "      <td>156</td>\n",
       "      <td>N</td>\n",
       "      <td>1.0</td>\n",
       "      <td>Flat</td>\n",
       "    </tr>\n",
       "    <tr>\n",
       "      <th>2</th>\n",
       "      <td>37</td>\n",
       "      <td>M</td>\n",
       "      <td>ATA</td>\n",
       "      <td>130.0</td>\n",
       "      <td>283.0</td>\n",
       "      <td>0</td>\n",
       "      <td>ST</td>\n",
       "      <td>98</td>\n",
       "      <td>N</td>\n",
       "      <td>0.0</td>\n",
       "      <td>Up</td>\n",
       "    </tr>\n",
       "    <tr>\n",
       "      <th>3</th>\n",
       "      <td>48</td>\n",
       "      <td>F</td>\n",
       "      <td>ASY</td>\n",
       "      <td>138.0</td>\n",
       "      <td>214.0</td>\n",
       "      <td>0</td>\n",
       "      <td>Normal</td>\n",
       "      <td>108</td>\n",
       "      <td>Y</td>\n",
       "      <td>1.5</td>\n",
       "      <td>Flat</td>\n",
       "    </tr>\n",
       "    <tr>\n",
       "      <th>4</th>\n",
       "      <td>54</td>\n",
       "      <td>M</td>\n",
       "      <td>NAP</td>\n",
       "      <td>150.0</td>\n",
       "      <td>195.0</td>\n",
       "      <td>0</td>\n",
       "      <td>Normal</td>\n",
       "      <td>122</td>\n",
       "      <td>N</td>\n",
       "      <td>0.0</td>\n",
       "      <td>Up</td>\n",
       "    </tr>\n",
       "  </tbody>\n",
       "</table>\n",
       "</div>"
      ],
      "text/plain": [
       "   Age Sex ChestPainType  RestingBP  Cholesterol  FastingBS RestingECG  MaxHR  \\\n",
       "0   40   M           ATA      140.0        289.0          0     Normal    172   \n",
       "1   49   F           NAP      160.0        180.0          0     Normal    156   \n",
       "2   37   M           ATA      130.0        283.0          0         ST     98   \n",
       "3   48   F           ASY      138.0        214.0          0     Normal    108   \n",
       "4   54   M           NAP      150.0        195.0          0     Normal    122   \n",
       "\n",
       "  ExerciseAngina  Oldpeak ST_Slope  \n",
       "0              N      0.0       Up  \n",
       "1              N      1.0     Flat  \n",
       "2              N      0.0       Up  \n",
       "3              Y      1.5     Flat  \n",
       "4              N      0.0       Up  "
      ]
     },
     "execution_count": 8,
     "metadata": {},
     "output_type": "execute_result"
    }
   ],
   "source": [
    "features.head()"
   ]
  },
  {
   "cell_type": "code",
   "execution_count": 9,
   "id": "177ad5ce-6c9f-41cc-9068-a0cbb57e25ff",
   "metadata": {},
   "outputs": [],
   "source": [
    "N_columns= ['Age', 'RestingBP', 'Cholesterol', 'MaxHR', 'Oldpeak']\n",
    "C_columns= ['Sex', 'ChestPainType', 'FastingBS', 'RestingECG', 'ExerciseAngina', 'ST_Slope']"
   ]
  },
  {
   "cell_type": "markdown",
   "id": "32481dc1-3e30-46fe-a075-f16e84f89ed7",
   "metadata": {},
   "source": [
    "### Transforming Separated Features"
   ]
  },
  {
   "cell_type": "markdown",
   "id": "a35338a5-60be-4937-9f1c-5c72d1fe72ae",
   "metadata": {},
   "source": [
    "##### Using MinMaxScaler() for numerical columns and OneHotEncoder() for categorical columns ."
   ]
  },
  {
   "cell_type": "code",
   "execution_count": 10,
   "id": "2312fbb3-c359-4254-b004-1b0a9de6d496",
   "metadata": {},
   "outputs": [],
   "source": [
    "N_transformer= MinMaxScaler()\n",
    "C_transformer= OneHotEncoder()"
   ]
  },
  {
   "cell_type": "code",
   "execution_count": 11,
   "id": "fc58aa47-d1cc-4bcb-88ff-386355f1d423",
   "metadata": {},
   "outputs": [],
   "source": [
    "preprocessor= ColumnTransformer([('MinMaxScaler', N_transformer, N_columns),\n",
    "                                 ('OneHotEncoder', C_transformer, C_columns)])"
   ]
  },
  {
   "cell_type": "code",
   "execution_count": 12,
   "id": "44917ada-8209-495f-b48e-ccf9825f7671",
   "metadata": {},
   "outputs": [],
   "source": [
    "features= preprocessor.fit_transform(features)"
   ]
  },
  {
   "cell_type": "markdown",
   "id": "fd219126-22ee-44de-9f1d-82c1aba75108",
   "metadata": {},
   "source": [
    "#### Performing Train - Test Split"
   ]
  },
  {
   "cell_type": "code",
   "execution_count": 13,
   "id": "0e1a2502-bed2-4bdf-9689-74472bbb1e9e",
   "metadata": {},
   "outputs": [],
   "source": [
    "train_features, test_features, train_target, test_target= train_test_split(features, target, test_size= 0.2, random_state= 42)"
   ]
  },
  {
   "cell_type": "code",
   "execution_count": 14,
   "id": "448dc127-aa89-4be5-919e-a59a199a9ec9",
   "metadata": {},
   "outputs": [
    {
     "data": {
      "text/plain": [
       "((734, 21), (184, 21), (734,), (184,))"
      ]
     },
     "execution_count": 14,
     "metadata": {},
     "output_type": "execute_result"
    }
   ],
   "source": [
    "train_features.shape, test_features.shape, train_target.shape, test_target.shape"
   ]
  },
  {
   "cell_type": "markdown",
   "id": "f2976097-bf60-4546-aca7-1996f40cc0b5",
   "metadata": {},
   "source": [
    "## Model Training"
   ]
  },
  {
   "cell_type": "markdown",
   "id": "371247d4-4c59-45b5-8925-d54689466f0a",
   "metadata": {},
   "source": [
    "### Experimenting on Selected Models"
   ]
  },
  {
   "cell_type": "code",
   "execution_count": 15,
   "id": "7da01a3e-a581-4b58-8521-a5330690206f",
   "metadata": {},
   "outputs": [],
   "source": [
    "def plot_CM(true, predicted):\n",
    "    # calculating confusion matrix\n",
    "    CM= confusion_matrix(true, predicted)\n",
    "    # drawing heatmap for confusion matrix\n",
    "    plt.figure(figsize= (4, 4))\n",
    "    sns.heatmap(CM,\n",
    "                annot= True,\n",
    "                fmt= 'd',\n",
    "                cmap= 'Blues',\n",
    "                cbar= False,\n",
    "                xticklabels= ['Predicted 0', 'Predicted 1'],\n",
    "                yticklabels= ['Actual 0', 'Actual 1'])\n",
    "    # representation\n",
    "    plt.xlabel('Predicted')\n",
    "    plt.ylabel('True')\n",
    "    plt.show()"
   ]
  },
  {
   "cell_type": "code",
   "execution_count": 16,
   "id": "3757a40f-8955-4e16-a4ae-6455f2069241",
   "metadata": {},
   "outputs": [],
   "source": [
    "def evaluate_model(model, model_name, train_features, test_features, train_target, test_target):\n",
    "    # fit model on train data\n",
    "    model.fit(train_features, train_target)\n",
    "    \n",
    "    # find predictions for train and test data\n",
    "    train_prediction= model.predict(train_features)\n",
    "    test_prediction= model.predict(test_features)\n",
    "    \n",
    "    train_accuracy= accuracy_score(train_target, train_prediction)*100\n",
    "    test_accuracy= accuracy_score(test_target, test_prediction)*100\n",
    "    \n",
    "    # evalute model performance\n",
    "    print('===================================================================================')\n",
    "    print(f'MODEL : {model_name}')\n",
    "    print('-----------------------------------------------------------------------------------')\n",
    "    print('TRAIN DATA')\n",
    "    print(f'{train_accuracy:.3f} %')\n",
    "    print('-----------------------------------------------------------------------------------')\n",
    "    print('TEST DATA')\n",
    "    print(f'{test_accuracy:.3f} %')\n",
    "    plot_CM(test_target, test_prediction)"
   ]
  },
  {
   "cell_type": "code",
   "execution_count": 17,
   "id": "dc8b270e-367c-42e3-9125-efbf1385ceb7",
   "metadata": {},
   "outputs": [],
   "source": [
    "classification_models = {'Logistic Regression': LogisticRegression(),\n",
    "                         'Random Forest Classifier': RandomForestClassifier(),\n",
    "                         'Support Vector Classifier': SVC(),\n",
    "                         'XGBoost Classifier': XGBClassifier(verbosity= 0),\n",
    "                         'LGBM Classifier': LGBMClassifier(verbosity= -1),\n",
    "                         'CatBoost Classifier': CatBoostClassifier(verbose= False),\n",
    "                         'AdaBoost Classifier': AdaBoostClassifier()}"
   ]
  },
  {
   "cell_type": "code",
   "execution_count": 18,
   "id": "3bd67a1f-3e06-4615-b37b-7e4971b55039",
   "metadata": {},
   "outputs": [
    {
     "name": "stdout",
     "output_type": "stream",
     "text": [
      "===================================================================================\n",
      "MODEL : Logistic Regression\n",
      "-----------------------------------------------------------------------------------\n",
      "TRAIN DATA\n",
      "85.831 %\n",
      "-----------------------------------------------------------------------------------\n",
      "TEST DATA\n",
      "86.413 %\n"
     ]
    },
    {
     "data": {
      "image/png": "[encoded data removed]",
      "text/plain": [
       "<Figure size 400x400 with 1 Axes>"
      ]
     },
     "metadata": {},
     "output_type": "display_data"
    },
    {
     "name": "stdout",
     "output_type": "stream",
     "text": [
      "===================================================================================\n",
      "MODEL : Random Forest Classifier\n",
      "-----------------------------------------------------------------------------------\n",
      "TRAIN DATA\n",
      "100.000 %\n",
      "-----------------------------------------------------------------------------------\n",
      "TEST DATA\n",
      "87.500 %\n"
     ]
    },
    {
     "data": {
      "image/png": "[encoded data removed]",
      "text/plain": [
       "<Figure size 400x400 with 1 Axes>"
      ]
     },
     "metadata": {},
     "output_type": "display_data"
    },
    {
     "name": "stdout",
     "output_type": "stream",
     "text": [
      "===================================================================================\n",
      "MODEL : Support Vector Classifier\n",
      "-----------------------------------------------------------------------------------\n",
      "TRAIN DATA\n",
      "88.283 %\n",
      "-----------------------------------------------------------------------------------\n",
      "TEST DATA\n",
      "84.239 %\n"
     ]
    },
    {
     "data": {
      "image/png": "[encoded data removed]",
      "text/plain": [
       "<Figure size 400x400 with 1 Axes>"
      ]
     },
     "metadata": {},
     "output_type": "display_data"
    },
    {
     "name": "stdout",
     "output_type": "stream",
     "text": [
      "===================================================================================\n",
      "MODEL : XGBoost Classifier\n",
      "-----------------------------------------------------------------------------------\n",
      "TRAIN DATA\n",
      "100.000 %\n",
      "-----------------------------------------------------------------------------------\n",
      "TEST DATA\n",
      "85.326 %\n"
     ]
    },
    {
     "data": {
      "image/png": "[encoded data removed]",
      "text/plain": [
       "<Figure size 400x400 with 1 Axes>"
      ]
     },
     "metadata": {},
     "output_type": "display_data"
    },
    {
     "name": "stdout",
     "output_type": "stream",
     "text": [
      "===================================================================================\n",
      "MODEL : LGBM Classifier\n",
      "-----------------------------------------------------------------------------------\n",
      "TRAIN DATA\n",
      "100.000 %\n",
      "-----------------------------------------------------------------------------------\n",
      "TEST DATA\n",
      "84.783 %\n"
     ]
    },
    {
     "data": {
      "image/png": "[encoded data removed]",
      "text/plain": [
       "<Figure size 400x400 with 1 Axes>"
      ]
     },
     "metadata": {},
     "output_type": "display_data"
    },
    {
     "name": "stdout",
     "output_type": "stream",
     "text": [
      "===================================================================================\n",
      "MODEL : CatBoost Classifier\n",
      "-----------------------------------------------------------------------------------\n",
      "TRAIN DATA\n",
      "97.411 %\n",
      "-----------------------------------------------------------------------------------\n",
      "TEST DATA\n",
      "88.587 %\n"
     ]
    },
    {
     "data": {
      "image/png": "[encoded data removed]",
      "text/plain": [
       "<Figure size 400x400 with 1 Axes>"
      ]
     },
     "metadata": {},
     "output_type": "display_data"
    },
    {
     "name": "stderr",
     "output_type": "stream",
     "text": [
      "C:\\Users\\Akash\\Desktop\\machine-learning-end-to-end-projects\\classification_new\\.venv\\lib\\site-packages\\sklearn\\ensemble\\_weight_boosting.py:519: FutureWarning: The SAMME.R algorithm (the default) is deprecated and will be removed in 1.6. Use the SAMME algorithm to circumvent this warning.\n",
      "  warnings.warn(\n"
     ]
    },
    {
     "name": "stdout",
     "output_type": "stream",
     "text": [
      "===================================================================================\n",
      "MODEL : AdaBoost Classifier\n",
      "-----------------------------------------------------------------------------------\n",
      "TRAIN DATA\n",
      "88.692 %\n",
      "-----------------------------------------------------------------------------------\n",
      "TEST DATA\n",
      "85.870 %\n"
     ]
    },
    {
     "data": {
      "image/png": "[encoded data removed]",
      "text/plain": [
       "<Figure size 400x400 with 1 Axes>"
      ]
     },
     "metadata": {},
     "output_type": "display_data"
    }
   ],
   "source": [
    "for model_name, model_object in classification_models.items():\n",
    "    evaluate_model(model_object, model_name, train_features, test_features, train_target, test_target)"
   ]
  },
  {
   "cell_type": "markdown",
   "id": "f12114de-1d84-49d4-aa3f-e9776535217a",
   "metadata": {},
   "source": [
    "##### Observations:\n",
    "- CatBoost Classifier is the model we will consider due to following reasons:\n",
    "    - Highest test accuracy\n",
    "    - Lest number of FN."
   ]
  },
  {
   "cell_type": "markdown",
   "id": "a8234bcc-bdf4-4f64-a410-c5d4d99a9a88",
   "metadata": {},
   "source": [
    "### Best Model Hyperparameter Tuning"
   ]
  },
  {
   "cell_type": "code",
   "execution_count": 78,
   "id": "cee05e9e-dc6c-4b7d-80ff-c28cd315c9ea",
   "metadata": {},
   "outputs": [],
   "source": [
    "# defining objective function\n",
    "def objective(trial):\n",
    "    '''In this objective function, we are trying to maximize recall score'''\n",
    "    # defining hyperparameters\n",
    "    parameters= {'iterations': trial.suggest_int('iterations', 100, 1000),\n",
    "                 'depth': trial.suggest_int('depth', 4, 10),\n",
    "                 'learning_rate': trial.suggest_float('learning_rate', 0.001, 0.1),\n",
    "                 'random_strength': trial.suggest_float('random_strength', 0.01, 1.0),\n",
    "                 'bagging_temperature': trial.suggest_float('bagging_temperature', 0.0, 1.0),\n",
    "                 'border_count': trial.suggest_int('border_count', 32, 255),\n",
    "                 'l2_leaf_reg': trial.suggest_float('l2_leaf_reg', 0.1, 10)}\n",
    "    # initializing the CatBoostClassifer\n",
    "    model= CatBoostClassifier(**parameters,\n",
    "                              verbose= False)\n",
    "    model.fit(train_features, train_target, eval_set= (test_features, test_target))\n",
    "    test_target_predictions= model.predict(test_features)\n",
    "    # recall or sensitivity or true positive rate = (true positive)/(true positive + false negative)\n",
    "    recall= recall_score(test_target, test_target_predictions)\n",
    "    return recall"
   ]
  },
  {
   "cell_type": "code",
   "execution_count": 79,
   "id": "2f3d5dd2-46f0-46a9-9f03-5689c4a17c6c",
   "metadata": {},
   "outputs": [
    {
     "name": "stderr",
     "output_type": "stream",
     "text": [
      "[I 2024-01-20 10:54:22,198] A new study created in memory with name: no-name-7cbbc99d-c159-44d1-97d9-907217f19625\n",
      "[I 2024-01-20 10:54:27,125] Trial 0 finished with value: 0.8878504672897196 and parameters: {'iterations': 867, 'depth': 8, 'learning_rate': 0.084675056098678, 'random_strength': 0.5979855865520236, 'bagging_temperature': 0.7851847369246628, 'border_count': 87, 'l2_leaf_reg': 2.8960411622495204}. Best is trial 0 with value: 0.8878504672897196.\n",
      "[I 2024-01-20 10:54:30,518] Trial 1 finished with value: 0.8785046728971962 and parameters: {'iterations': 338, 'depth': 9, 'learning_rate': 0.09389428106841677, 'random_strength': 0.923384842640152, 'bagging_temperature': 0.8724278926974582, 'border_count': 250, 'l2_leaf_reg': 2.602780534736097}. Best is trial 0 with value: 0.8878504672897196.\n",
      "[I 2024-01-20 10:54:33,049] Trial 2 finished with value: 0.897196261682243 and parameters: {'iterations': 955, 'depth': 6, 'learning_rate': 0.0659406873108084, 'random_strength': 0.6142907708704788, 'bagging_temperature': 0.34025526310383014, 'border_count': 135, 'l2_leaf_reg': 8.512850792471346}. Best is trial 2 with value: 0.897196261682243.\n",
      "[I 2024-01-20 10:54:34,567] Trial 3 finished with value: 0.897196261682243 and parameters: {'iterations': 771, 'depth': 4, 'learning_rate': 0.03702645561173133, 'random_strength': 0.35716663915061825, 'bagging_temperature': 0.6446678463503163, 'border_count': 203, 'l2_leaf_reg': 2.9713122708831197}. Best is trial 2 with value: 0.897196261682243.\n",
      "[I 2024-01-20 10:54:35,379] Trial 4 finished with value: 0.8878504672897196 and parameters: {'iterations': 292, 'depth': 6, 'learning_rate': 0.040336629448160334, 'random_strength': 0.2684304223997524, 'bagging_temperature': 0.5685325484150603, 'border_count': 45, 'l2_leaf_reg': 5.687081139024756}. Best is trial 2 with value: 0.897196261682243.\n",
      "[I 2024-01-20 10:54:37,021] Trial 5 finished with value: 0.897196261682243 and parameters: {'iterations': 859, 'depth': 4, 'learning_rate': 0.011114483145649594, 'random_strength': 0.3487547393061095, 'bagging_temperature': 0.8909244850180511, 'border_count': 253, 'l2_leaf_reg': 7.551943816779288}. Best is trial 2 with value: 0.897196261682243.\n",
      "[I 2024-01-20 10:54:41,913] Trial 6 finished with value: 0.8785046728971962 and parameters: {'iterations': 307, 'depth': 10, 'learning_rate': 0.02112077763231809, 'random_strength': 0.8357735227744484, 'bagging_temperature': 0.04416496794164204, 'border_count': 254, 'l2_leaf_reg': 7.875038725367005}. Best is trial 2 with value: 0.897196261682243.\n",
      "[I 2024-01-20 10:54:42,162] Trial 7 finished with value: 0.8411214953271028 and parameters: {'iterations': 100, 'depth': 4, 'learning_rate': 0.010626928488761917, 'random_strength': 0.5435536216553196, 'bagging_temperature': 0.6824443320709606, 'border_count': 219, 'l2_leaf_reg': 5.489374258498613}. Best is trial 2 with value: 0.897196261682243.\n",
      "[I 2024-01-20 10:54:50,491] Trial 8 finished with value: 0.8598130841121495 and parameters: {'iterations': 853, 'depth': 9, 'learning_rate': 0.07219249491938708, 'random_strength': 0.17540208115278072, 'bagging_temperature': 0.6538004342785897, 'border_count': 121, 'l2_leaf_reg': 8.52510265998609}. Best is trial 2 with value: 0.897196261682243.\n",
      "[I 2024-01-20 10:54:51,108] Trial 9 finished with value: 0.8878504672897196 and parameters: {'iterations': 211, 'depth': 6, 'learning_rate': 0.03048000336291115, 'random_strength': 0.8444505047821185, 'bagging_temperature': 0.8618847038930438, 'border_count': 227, 'l2_leaf_reg': 8.779269908846778}. Best is trial 2 with value: 0.897196261682243.\n",
      "[I 2024-01-20 10:54:53,429] Trial 10 finished with value: 0.8785046728971962 and parameters: {'iterations': 608, 'depth': 7, 'learning_rate': 0.06062483566043422, 'random_strength': 0.6838666306704382, 'bagging_temperature': 0.23932994660569307, 'border_count': 157, 'l2_leaf_reg': 0.4951693617807553}. Best is trial 2 with value: 0.897196261682243.\n",
      "[I 2024-01-20 10:54:55,653] Trial 11 finished with value: 0.8785046728971962 and parameters: {'iterations': 994, 'depth': 5, 'learning_rate': 0.05254691361704801, 'random_strength': 0.390688152779278, 'bagging_temperature': 0.3470986627379843, 'border_count': 181, 'l2_leaf_reg': 3.4793056753168883}. Best is trial 2 with value: 0.897196261682243.\n",
      "[I 2024-01-20 10:54:57,169] Trial 12 finished with value: 0.8785046728971962 and parameters: {'iterations': 659, 'depth': 5, 'learning_rate': 0.06730928740444375, 'random_strength': 0.06990824542636942, 'bagging_temperature': 0.38306113775611683, 'border_count': 177, 'l2_leaf_reg': 9.745766412435454}. Best is trial 2 with value: 0.897196261682243.\n",
      "[I 2024-01-20 10:54:59,092] Trial 13 finished with value: 0.897196261682243 and parameters: {'iterations': 718, 'depth': 6, 'learning_rate': 0.04323990234089629, 'random_strength': 0.42965992585691976, 'bagging_temperature': 0.4628065604433431, 'border_count': 120, 'l2_leaf_reg': 0.7821516487343989}. Best is trial 2 with value: 0.897196261682243.\n",
      "[I 2024-01-20 10:55:00,281] Trial 14 finished with value: 0.8785046728971962 and parameters: {'iterations': 489, 'depth': 5, 'learning_rate': 0.07531723329331175, 'random_strength': 0.69539830946992, 'bagging_temperature': 0.17660033557319738, 'border_count': 198, 'l2_leaf_reg': 4.143960006508755}. Best is trial 2 with value: 0.897196261682243.\n",
      "[I 2024-01-20 10:55:03,797] Trial 15 finished with value: 0.8878504672897196 and parameters: {'iterations': 971, 'depth': 7, 'learning_rate': 0.053513992713250226, 'random_strength': 0.4980392643106342, 'bagging_temperature': 0.5171062598392745, 'border_count': 140, 'l2_leaf_reg': 6.585192369210491}. Best is trial 2 with value: 0.897196261682243.\n",
      "[I 2024-01-20 10:55:05,344] Trial 16 finished with value: 0.8878504672897196 and parameters: {'iterations': 766, 'depth': 4, 'learning_rate': 0.03012410205320128, 'random_strength': 0.2558611350388276, 'bagging_temperature': 0.9949837930484766, 'border_count': 88, 'l2_leaf_reg': 4.521500458326755}. Best is trial 2 with value: 0.897196261682243.\n",
      "[I 2024-01-20 10:55:06,532] Trial 17 finished with value: 0.8598130841121495 and parameters: {'iterations': 532, 'depth': 5, 'learning_rate': 0.0021530354133422955, 'random_strength': 0.67295048106104, 'bagging_temperature': 0.28078480395101696, 'border_count': 154, 'l2_leaf_reg': 1.7933071503763327}. Best is trial 2 with value: 0.897196261682243.\n",
      "[I 2024-01-20 10:55:10,932] Trial 18 finished with value: 0.8785046728971962 and parameters: {'iterations': 764, 'depth': 8, 'learning_rate': 0.09803145473882541, 'random_strength': 0.06654865041028996, 'bagging_temperature': 0.12196198226390953, 'border_count': 93, 'l2_leaf_reg': 6.82564572539502}. Best is trial 2 with value: 0.897196261682243.\n",
      "[I 2024-01-20 10:55:13,410] Trial 19 finished with value: 0.8785046728971962 and parameters: {'iterations': 934, 'depth': 6, 'learning_rate': 0.03936900854814704, 'random_strength': 0.49119101953564176, 'bagging_temperature': 0.433984867910856, 'border_count': 39, 'l2_leaf_reg': 1.9895733937291902}. Best is trial 2 with value: 0.897196261682243.\n",
      "[I 2024-01-20 10:55:15,255] Trial 20 finished with value: 0.897196261682243 and parameters: {'iterations': 477, 'depth': 7, 'learning_rate': 0.08262146191993665, 'random_strength': 0.7806501325943633, 'bagging_temperature': 0.6260206223914478, 'border_count': 201, 'l2_leaf_reg': 9.9691542600969}. Best is trial 2 with value: 0.897196261682243.\n",
      "[I 2024-01-20 10:55:16,969] Trial 21 finished with value: 0.8785046728971962 and parameters: {'iterations': 855, 'depth': 4, 'learning_rate': 0.018673788387436115, 'random_strength': 0.3355507897294567, 'bagging_temperature': 0.7491386418697541, 'border_count': 227, 'l2_leaf_reg': 7.28438008267928}. Best is trial 2 with value: 0.897196261682243.\n",
      "[I 2024-01-20 10:55:18,831] Trial 22 finished with value: 0.8878504672897196 and parameters: {'iterations': 899, 'depth': 4, 'learning_rate': 0.00503425693862302, 'random_strength': 0.3196448923718364, 'bagging_temperature': 0.8674038148796686, 'border_count': 240, 'l2_leaf_reg': 8.751542945545587}. Best is trial 2 with value: 0.897196261682243.\n",
      "[I 2024-01-20 10:55:20,786] Trial 23 finished with value: 0.8598130841121495 and parameters: {'iterations': 792, 'depth': 5, 'learning_rate': 0.024964723537321994, 'random_strength': 0.16874748440795412, 'bagging_temperature': 0.9521193719634424, 'border_count': 201, 'l2_leaf_reg': 5.991836646004229}. Best is trial 2 with value: 0.897196261682243.\n",
      "[I 2024-01-20 10:55:22,117] Trial 24 finished with value: 0.897196261682243 and parameters: {'iterations': 646, 'depth': 4, 'learning_rate': 0.013432032107263916, 'random_strength': 0.4260951189636382, 'bagging_temperature': 0.7572661703644858, 'border_count': 172, 'l2_leaf_reg': 7.848256353836069}. Best is trial 2 with value: 0.897196261682243.\n",
      "[I 2024-01-20 10:55:24,087] Trial 25 finished with value: 0.8691588785046729 and parameters: {'iterations': 812, 'depth': 5, 'learning_rate': 0.061430511525873276, 'random_strength': 0.5964647778273707, 'bagging_temperature': 0.5710760043581791, 'border_count': 131, 'l2_leaf_reg': 4.711486457306341}. Best is trial 2 with value: 0.897196261682243.\n",
      "[I 2024-01-20 10:55:25,603] Trial 26 finished with value: 0.897196261682243 and parameters: {'iterations': 703, 'depth': 4, 'learning_rate': 0.04649880733788893, 'random_strength': 0.1802898259163282, 'bagging_temperature': 0.3549290813997161, 'border_count': 216, 'l2_leaf_reg': 9.319656770042744}. Best is trial 2 with value: 0.897196261682243.\n",
      "[I 2024-01-20 10:55:28,249] Trial 27 finished with value: 0.897196261682243 and parameters: {'iterations': 935, 'depth': 6, 'learning_rate': 0.032333183002518785, 'random_strength': 0.3690930873681355, 'bagging_temperature': 0.5176168269669102, 'border_count': 107, 'l2_leaf_reg': 3.8193628150962184}. Best is trial 2 with value: 0.897196261682243.\n",
      "[I 2024-01-20 10:55:30,324] Trial 28 finished with value: 0.8878504672897196 and parameters: {'iterations': 998, 'depth': 4, 'learning_rate': 0.0563074228749082, 'random_strength': 0.4653771088252565, 'bagging_temperature': 0.7053155001850122, 'border_count': 157, 'l2_leaf_reg': 7.657661302141498}. Best is trial 2 with value: 0.897196261682243.\n",
      "[I 2024-01-20 10:55:32,403] Trial 29 finished with value: 0.8785046728971962 and parameters: {'iterations': 878, 'depth': 5, 'learning_rate': 0.07886549748133788, 'random_strength': 0.5621163627097017, 'bagging_temperature': 0.7923277112241659, 'border_count': 236, 'l2_leaf_reg': 3.1852461452386}. Best is trial 2 with value: 0.897196261682243.\n",
      "[I 2024-01-20 10:55:37,327] Trial 30 finished with value: 0.897196261682243 and parameters: {'iterations': 827, 'depth': 8, 'learning_rate': 0.06883943304452199, 'random_strength': 0.6393807700682476, 'bagging_temperature': 0.26105421273008794, 'border_count': 58, 'l2_leaf_reg': 6.513314167736064}. Best is trial 2 with value: 0.897196261682243.\n",
      "[I 2024-01-20 10:55:39,484] Trial 31 finished with value: 0.8504672897196262 and parameters: {'iterations': 732, 'depth': 6, 'learning_rate': 0.04428169878543873, 'random_strength': 0.43321136541893074, 'bagging_temperature': 0.44737129119576136, 'border_count': 108, 'l2_leaf_reg': 0.13270430739624972}. Best is trial 2 with value: 0.897196261682243.\n",
      "[I 2024-01-20 10:55:43,798] Trial 32 finished with value: 0.8878504672897196 and parameters: {'iterations': 694, 'depth': 8, 'learning_rate': 0.03521893996887487, 'random_strength': 0.2704619274841056, 'bagging_temperature': 0.41990790366645203, 'border_count': 121, 'l2_leaf_reg': 0.949099462310258}. Best is trial 2 with value: 0.897196261682243.\n",
      "[I 2024-01-20 10:55:45,471] Trial 33 finished with value: 0.8878504672897196 and parameters: {'iterations': 572, 'depth': 6, 'learning_rate': 0.09091361349484478, 'random_strength': 0.32337256570267175, 'bagging_temperature': 0.5939161345720723, 'border_count': 136, 'l2_leaf_reg': 1.9840718396515218}. Best is trial 2 with value: 0.897196261682243.\n",
      "[I 2024-01-20 10:55:48,835] Trial 34 finished with value: 0.8878504672897196 and parameters: {'iterations': 909, 'depth': 7, 'learning_rate': 0.04637114074959432, 'random_strength': 0.40927586107853614, 'bagging_temperature': 0.47000862558535034, 'border_count': 67, 'l2_leaf_reg': 2.4761359417486797}. Best is trial 2 with value: 0.897196261682243.\n",
      "[I 2024-01-20 10:55:56,430] Trial 35 finished with value: 0.8598130841121495 and parameters: {'iterations': 741, 'depth': 9, 'learning_rate': 0.0396305630239312, 'random_strength': 0.529679777936778, 'bagging_temperature': 0.32114160830186356, 'border_count': 189, 'l2_leaf_reg': 0.997093992941511}. Best is trial 2 with value: 0.897196261682243.\n",
      "[I 2024-01-20 10:55:58,305] Trial 36 finished with value: 0.9065420560747663 and parameters: {'iterations': 428, 'depth': 7, 'learning_rate': 0.020201227691164496, 'random_strength': 0.7400708896672612, 'bagging_temperature': 0.5271254575335044, 'border_count': 255, 'l2_leaf_reg': 5.2776107590361985}. Best is trial 36 with value: 0.9065420560747663.\n",
      "[I 2024-01-20 10:56:04,401] Trial 37 finished with value: 0.8878504672897196 and parameters: {'iterations': 387, 'depth': 10, 'learning_rate': 0.013985802601364691, 'random_strength': 0.929938516932892, 'bagging_temperature': 0.8073409593366143, 'border_count': 252, 'l2_leaf_reg': 4.946621955676244}. Best is trial 36 with value: 0.9065420560747663.\n",
      "[I 2024-01-20 10:56:06,136] Trial 38 finished with value: 0.8878504672897196 and parameters: {'iterations': 404, 'depth': 7, 'learning_rate': 0.022868375385600468, 'random_strength': 0.8076648586382462, 'bagging_temperature': 0.6815504036870936, 'border_count': 241, 'l2_leaf_reg': 8.215039927486437}. Best is trial 36 with value: 0.9065420560747663.\n",
      "[I 2024-01-20 10:56:08,700] Trial 39 finished with value: 0.8691588785046729 and parameters: {'iterations': 247, 'depth': 9, 'learning_rate': 0.006730811796120955, 'random_strength': 0.7455710654949123, 'bagging_temperature': 0.5616751163408842, 'border_count': 214, 'l2_leaf_reg': 6.086797785889193}. Best is trial 36 with value: 0.9065420560747663.\n",
      "[I 2024-01-20 10:56:10,451] Trial 40 finished with value: 0.8785046728971962 and parameters: {'iterations': 416, 'depth': 7, 'learning_rate': 0.027108375492986156, 'random_strength': 0.9849205707195424, 'bagging_temperature': 0.9290943539814999, 'border_count': 247, 'l2_leaf_reg': 9.289644757131882}. Best is trial 36 with value: 0.9065420560747663.\n",
      "[I 2024-01-20 10:56:12,874] Trial 41 finished with value: 0.8785046728971962 and parameters: {'iterations': 841, 'depth': 6, 'learning_rate': 0.018100972502518596, 'random_strength': 0.6054789044881744, 'bagging_temperature': 0.513473461700091, 'border_count': 255, 'l2_leaf_reg': 5.465590957015928}. Best is trial 36 with value: 0.9065420560747663.\n",
      "[I 2024-01-20 10:56:14,656] Trial 42 finished with value: 0.8878504672897196 and parameters: {'iterations': 613, 'depth': 6, 'learning_rate': 0.036516611950357006, 'random_strength': 0.2367540455035643, 'bagging_temperature': 0.39803145083244934, 'border_count': 165, 'l2_leaf_reg': 2.7583008473691213}. Best is trial 36 with value: 0.9065420560747663.\n",
      "[I 2024-01-20 10:56:16,829] Trial 43 finished with value: 0.8878504672897196 and parameters: {'iterations': 944, 'depth': 5, 'learning_rate': 0.06023905524963916, 'random_strength': 0.7328904547646533, 'bagging_temperature': 0.19423337108379282, 'border_count': 230, 'l2_leaf_reg': 7.297167841323527}. Best is trial 36 with value: 0.9065420560747663.\n",
      "[I 2024-01-20 10:56:18,187] Trial 44 finished with value: 0.8785046728971962 and parameters: {'iterations': 315, 'depth': 7, 'learning_rate': 0.009331438716915816, 'random_strength': 0.46784167866457455, 'bagging_temperature': 0.6322422436696119, 'border_count': 122, 'l2_leaf_reg': 1.2855655873219995}. Best is trial 36 with value: 0.9065420560747663.\n",
      "[I 2024-01-20 10:56:19,659] Trial 45 finished with value: 0.897196261682243 and parameters: {'iterations': 473, 'depth': 6, 'learning_rate': 0.01646540635816914, 'random_strength': 0.5857300614978825, 'bagging_temperature': 0.31476381108032725, 'border_count': 149, 'l2_leaf_reg': 3.9127547689354234}. Best is trial 36 with value: 0.9065420560747663.\n",
      "[I 2024-01-20 10:56:21,488] Trial 46 finished with value: 0.8785046728971962 and parameters: {'iterations': 796, 'depth': 5, 'learning_rate': 0.04357075219600839, 'random_strength': 0.36030537319942013, 'bagging_temperature': 0.473798567749266, 'border_count': 104, 'l2_leaf_reg': 3.301660961920055}. Best is trial 36 with value: 0.9065420560747663.\n",
      "[I 2024-01-20 10:56:21,928] Trial 47 finished with value: 0.8878504672897196 and parameters: {'iterations': 153, 'depth': 4, 'learning_rate': 0.05024978779943261, 'random_strength': 0.8673045465439448, 'bagging_temperature': 0.53241973186661, 'border_count': 74, 'l2_leaf_reg': 8.436852267349403}. Best is trial 36 with value: 0.9065420560747663.\n",
      "[I 2024-01-20 10:56:27,368] Trial 48 finished with value: 0.897196261682243 and parameters: {'iterations': 875, 'depth': 8, 'learning_rate': 0.06516011310029653, 'random_strength': 0.6439760899559737, 'bagging_temperature': 0.8377506508280186, 'border_count': 210, 'l2_leaf_reg': 2.3402591895426457}. Best is trial 36 with value: 0.9065420560747663.\n",
      "[I 2024-01-20 10:56:29,401] Trial 49 finished with value: 0.8878504672897196 and parameters: {'iterations': 680, 'depth': 6, 'learning_rate': 0.0276893389705312, 'random_strength': 0.5215736298210487, 'bagging_temperature': 0.022114867644017933, 'border_count': 190, 'l2_leaf_reg': 4.381093060582936}. Best is trial 36 with value: 0.9065420560747663.\n",
      "[I 2024-01-20 10:56:31,669] Trial 50 finished with value: 0.8504672897196262 and parameters: {'iterations': 556, 'depth': 7, 'learning_rate': 0.0014731215257775127, 'random_strength': 0.28691766584976774, 'bagging_temperature': 0.08421154393235852, 'border_count': 227, 'l2_leaf_reg': 5.221946047167231}. Best is trial 36 with value: 0.9065420560747663.\n",
      "[I 2024-01-20 10:56:33,843] Trial 51 finished with value: 0.9065420560747663 and parameters: {'iterations': 459, 'depth': 7, 'learning_rate': 0.08411440676981417, 'random_strength': 0.7874087086060348, 'bagging_temperature': 0.6166965740849306, 'border_count': 203, 'l2_leaf_reg': 9.828477575378939}. Best is trial 36 with value: 0.9065420560747663.\n",
      "[I 2024-01-20 10:56:35,626] Trial 52 finished with value: 0.897196261682243 and parameters: {'iterations': 354, 'depth': 7, 'learning_rate': 0.08727089037742533, 'random_strength': 0.7221413706570802, 'bagging_temperature': 0.6132101479705087, 'border_count': 169, 'l2_leaf_reg': 9.592092928827206}. Best is trial 36 with value: 0.9065420560747663.\n",
      "[I 2024-01-20 10:56:38,306] Trial 53 finished with value: 0.897196261682243 and parameters: {'iterations': 431, 'depth': 8, 'learning_rate': 0.07645086469812083, 'random_strength': 0.8717227023994099, 'bagging_temperature': 0.6511008757479877, 'border_count': 144, 'l2_leaf_reg': 9.10714590885994}. Best is trial 36 with value: 0.9065420560747663.\n",
      "[I 2024-01-20 10:56:39,614] Trial 54 finished with value: 0.9065420560747663 and parameters: {'iterations': 514, 'depth': 5, 'learning_rate': 0.07216426919649443, 'random_strength': 0.760207389817806, 'bagging_temperature': 0.7030136777255226, 'border_count': 124, 'l2_leaf_reg': 8.871683229484663}. Best is trial 36 with value: 0.9065420560747663.\n",
      "[I 2024-01-20 10:56:41,120] Trial 55 finished with value: 0.8785046728971962 and parameters: {'iterations': 500, 'depth': 5, 'learning_rate': 0.0712124399163967, 'random_strength': 0.7538764719774703, 'bagging_temperature': 0.7397819297799254, 'border_count': 182, 'l2_leaf_reg': 8.879133775986448}. Best is trial 36 with value: 0.9065420560747663.\n",
      "[I 2024-01-20 10:56:42,324] Trial 56 finished with value: 0.8878504672897196 and parameters: {'iterations': 454, 'depth': 4, 'learning_rate': 0.08245671962192687, 'random_strength': 0.7903042844681338, 'bagging_temperature': 0.6880538176079511, 'border_count': 130, 'l2_leaf_reg': 8.259038064924132}. Best is trial 36 with value: 0.9065420560747663.\n",
      "[I 2024-01-20 10:56:43,433] Trial 57 finished with value: 0.8785046728971962 and parameters: {'iterations': 522, 'depth': 4, 'learning_rate': 0.09899656988964883, 'random_strength': 0.9043750334632341, 'bagging_temperature': 0.942126897095273, 'border_count': 207, 'l2_leaf_reg': 9.993922181058434}. Best is trial 36 with value: 0.9065420560747663.\n",
      "[I 2024-01-20 10:56:44,340] Trial 58 finished with value: 0.897196261682243 and parameters: {'iterations': 370, 'depth': 5, 'learning_rate': 0.09414596913818701, 'random_strength': 0.6952921302311118, 'bagging_temperature': 0.7209046443344798, 'border_count': 247, 'l2_leaf_reg': 9.548588178406787}. Best is trial 36 with value: 0.9065420560747663.\n",
      "[I 2024-01-20 10:56:45,778] Trial 59 finished with value: 0.8785046728971962 and parameters: {'iterations': 594, 'depth': 5, 'learning_rate': 0.06595598063171994, 'random_strength': 0.820518479393169, 'bagging_temperature': 0.9062717251881425, 'border_count': 222, 'l2_leaf_reg': 7.547097884610155}. Best is trial 36 with value: 0.9065420560747663.\n",
      "[I 2024-01-20 10:56:48,108] Trial 60 finished with value: 0.8878504672897196 and parameters: {'iterations': 965, 'depth': 4, 'learning_rate': 0.07422926096368493, 'random_strength': 0.6505362971884969, 'bagging_temperature': 0.5520231246421616, 'border_count': 97, 'l2_leaf_reg': 7.049621644199464}. Best is trial 36 with value: 0.9065420560747663.\n",
      "[I 2024-01-20 10:56:49,813] Trial 61 finished with value: 0.8691588785046729 and parameters: {'iterations': 522, 'depth': 6, 'learning_rate': 0.051409035709638715, 'random_strength': 0.38180861732199506, 'bagging_temperature': 0.5990689146306962, 'border_count': 114, 'l2_leaf_reg': 8.79768685655533}. Best is trial 36 with value: 0.9065420560747663.\n",
      "[I 2024-01-20 10:56:52,640] Trial 62 finished with value: 0.8785046728971962 and parameters: {'iterations': 777, 'depth': 7, 'learning_rate': 0.05767186107311718, 'random_strength': 0.21452203684389393, 'bagging_temperature': 0.49294458748454806, 'border_count': 127, 'l2_leaf_reg': 7.835347633614555}. Best is trial 36 with value: 0.9065420560747663.\n",
      "[I 2024-01-20 10:56:54,328] Trial 63 finished with value: 0.8878504672897196 and parameters: {'iterations': 451, 'depth': 6, 'learning_rate': 0.08041721405869395, 'random_strength': 0.47935630588401235, 'bagging_temperature': 0.9853525832568676, 'border_count': 140, 'l2_leaf_reg': 8.60201717117674}. Best is trial 36 with value: 0.9065420560747663.\n",
      "[I 2024-01-20 10:56:56,115] Trial 64 finished with value: 0.8785046728971962 and parameters: {'iterations': 652, 'depth': 5, 'learning_rate': 0.08677165729471574, 'random_strength': 0.7822799982624717, 'bagging_temperature': 0.6527594268114059, 'border_count': 162, 'l2_leaf_reg': 1.5853147379269603}. Best is trial 36 with value: 0.9065420560747663.\n",
      "[I 2024-01-20 10:56:57,617] Trial 65 finished with value: 0.8785046728971962 and parameters: {'iterations': 740, 'depth': 4, 'learning_rate': 0.03190050271180554, 'random_strength': 0.42590108976979923, 'bagging_temperature': 0.384630972281524, 'border_count': 236, 'l2_leaf_reg': 9.038188247428495}. Best is trial 36 with value: 0.9065420560747663.\n",
      "[I 2024-01-20 10:57:01,317] Trial 66 finished with value: 0.8878504672897196 and parameters: {'iterations': 908, 'depth': 7, 'learning_rate': 0.02200177671235694, 'random_strength': 0.3016853693135661, 'bagging_temperature': 0.7766908146501666, 'border_count': 115, 'l2_leaf_reg': 8.076369182264242}. Best is trial 36 with value: 0.9065420560747663.\n",
      "[I 2024-01-20 10:57:03,285] Trial 67 finished with value: 0.8785046728971962 and parameters: {'iterations': 826, 'depth': 4, 'learning_rate': 0.06293270819500264, 'random_strength': 0.8476151737719305, 'bagging_temperature': 0.5734275552550423, 'border_count': 134, 'l2_leaf_reg': 6.111098829566079}. Best is trial 36 with value: 0.9065420560747663.\n",
      "[I 2024-01-20 10:57:04,614] Trial 68 finished with value: 0.897196261682243 and parameters: {'iterations': 604, 'depth': 5, 'learning_rate': 0.0695349373029168, 'random_strength': 0.556194531968444, 'bagging_temperature': 0.8240571316361701, 'border_count': 150, 'l2_leaf_reg': 9.67408055453345}. Best is trial 36 with value: 0.9065420560747663.\n",
      "[I 2024-01-20 10:57:07,490] Trial 69 finished with value: 0.8785046728971962 and parameters: {'iterations': 971, 'depth': 6, 'learning_rate': 0.035582847628383, 'random_strength': 0.34986821971185506, 'bagging_temperature': 0.42434166085019553, 'border_count': 79, 'l2_leaf_reg': 0.509407457909371}. Best is trial 36 with value: 0.9065420560747663.\n",
      "[I 2024-01-20 10:57:08,944] Trial 70 finished with value: 0.8691588785046729 and parameters: {'iterations': 500, 'depth': 4, 'learning_rate': 0.013026719832794732, 'random_strength': 0.012842553347167496, 'bagging_temperature': 0.4637680437603346, 'border_count': 99, 'l2_leaf_reg': 6.543859644049157}. Best is trial 36 with value: 0.9065420560747663.\n",
      "[I 2024-01-20 10:57:11,978] Trial 71 finished with value: 0.897196261682243 and parameters: {'iterations': 545, 'depth': 7, 'learning_rate': 0.0843331486733102, 'random_strength': 0.7555402691863026, 'bagging_temperature': 0.6158300560568813, 'border_count': 200, 'l2_leaf_reg': 9.97731173581379}. Best is trial 36 with value: 0.9065420560747663.\n",
      "[I 2024-01-20 10:57:14,011] Trial 72 finished with value: 0.8785046728971962 and parameters: {'iterations': 454, 'depth': 7, 'learning_rate': 0.0781936953529201, 'random_strength': 0.7037888844812705, 'bagging_temperature': 0.6568442480829811, 'border_count': 178, 'l2_leaf_reg': 9.338077178683418}. Best is trial 36 with value: 0.9065420560747663.\n",
      "[I 2024-01-20 10:57:15,103] Trial 73 finished with value: 0.8878504672897196 and parameters: {'iterations': 275, 'depth': 7, 'learning_rate': 0.0950629537753511, 'random_strength': 0.7781288206000354, 'bagging_temperature': 0.5412284149604332, 'border_count': 241, 'l2_leaf_reg': 9.350950775000818}. Best is trial 36 with value: 0.9065420560747663.\n",
      "[I 2024-01-20 10:57:17,811] Trial 74 finished with value: 0.8691588785046729 and parameters: {'iterations': 399, 'depth': 8, 'learning_rate': 0.09003651491121739, 'random_strength': 0.45199410793798744, 'bagging_temperature': 0.49787124936940547, 'border_count': 195, 'l2_leaf_reg': 8.536069269505619}. Best is trial 36 with value: 0.9065420560747663.\n",
      "[I 2024-01-20 10:57:19,906] Trial 75 finished with value: 0.8878504672897196 and parameters: {'iterations': 432, 'depth': 7, 'learning_rate': 0.07289053656740319, 'random_strength': 0.6581268384611135, 'bagging_temperature': 0.582548910110938, 'border_count': 124, 'l2_leaf_reg': 9.770236094306346}. Best is trial 36 with value: 0.9065420560747663.\n",
      "[I 2024-01-20 10:57:21,309] Trial 76 finished with value: 0.8785046728971962 and parameters: {'iterations': 479, 'depth': 6, 'learning_rate': 0.007597929435324879, 'random_strength': 0.618257644299221, 'bagging_temperature': 0.6896222878375173, 'border_count': 116, 'l2_leaf_reg': 2.984026501453604}. Best is trial 36 with value: 0.9065420560747663.\n",
      "[I 2024-01-20 10:57:26,163] Trial 77 finished with value: 0.8878504672897196 and parameters: {'iterations': 717, 'depth': 8, 'learning_rate': 0.05415263600103912, 'random_strength': 0.7145971170126226, 'bagging_temperature': 0.35535322239726996, 'border_count': 234, 'l2_leaf_reg': 3.771640714016123}. Best is trial 36 with value: 0.9065420560747663.\n",
      "[I 2024-01-20 10:57:28,811] Trial 78 finished with value: 0.8878504672897196 and parameters: {'iterations': 866, 'depth': 6, 'learning_rate': 0.04224135360898366, 'random_strength': 0.6790661703834749, 'bagging_temperature': 0.6328361614104876, 'border_count': 207, 'l2_leaf_reg': 9.0716543305682}. Best is trial 36 with value: 0.9065420560747663.\n",
      "[I 2024-01-20 10:57:30,167] Trial 79 finished with value: 0.8691588785046729 and parameters: {'iterations': 570, 'depth': 5, 'learning_rate': 0.047206923405502255, 'random_strength': 0.41148501909656965, 'bagging_temperature': 0.8951094264773283, 'border_count': 222, 'l2_leaf_reg': 0.10878831656635723}. Best is trial 36 with value: 0.9065420560747663.\n",
      "[I 2024-01-20 10:57:33,189] Trial 80 finished with value: 0.8691588785046729 and parameters: {'iterations': 625, 'depth': 7, 'learning_rate': 0.08134308726804015, 'random_strength': 0.9040091029818954, 'bagging_temperature': 0.7346343147389972, 'border_count': 183, 'l2_leaf_reg': 7.445952452995766}. Best is trial 36 with value: 0.9065420560747663.\n",
      "[I 2024-01-20 10:57:34,659] Trial 81 finished with value: 0.897196261682243 and parameters: {'iterations': 662, 'depth': 4, 'learning_rate': 0.010961463247714194, 'random_strength': 0.39570145286183767, 'bagging_temperature': 0.8546373516365806, 'border_count': 194, 'l2_leaf_reg': 6.965511664000808}. Best is trial 36 with value: 0.9065420560747663.\n",
      "[I 2024-01-20 10:57:36,207] Trial 82 finished with value: 0.897196261682243 and parameters: {'iterations': 794, 'depth': 4, 'learning_rate': 0.004998605339229731, 'random_strength': 0.49682097322384383, 'bagging_temperature': 0.7695334157881786, 'border_count': 172, 'l2_leaf_reg': 7.923046018202357}. Best is trial 36 with value: 0.9065420560747663.\n",
      "[I 2024-01-20 10:57:37,925] Trial 83 finished with value: 0.8878504672897196 and parameters: {'iterations': 763, 'depth': 4, 'learning_rate': 0.014851167778576924, 'random_strength': 0.44775472682197404, 'bagging_temperature': 0.7109283389718302, 'border_count': 217, 'l2_leaf_reg': 8.391343798874477}. Best is trial 36 with value: 0.9065420560747663.\n",
      "[I 2024-01-20 10:57:39,972] Trial 84 finished with value: 0.8878504672897196 and parameters: {'iterations': 698, 'depth': 5, 'learning_rate': 0.01934616024020163, 'random_strength': 0.8049607941732192, 'bagging_temperature': 0.21077371524803146, 'border_count': 160, 'l2_leaf_reg': 5.614621655783468}. Best is trial 36 with value: 0.9065420560747663.\n",
      "[I 2024-01-20 10:57:41,411] Trial 85 finished with value: 0.8878504672897196 and parameters: {'iterations': 651, 'depth': 4, 'learning_rate': 0.02445543326760366, 'random_strength': 0.3294095563933787, 'bagging_temperature': 0.75279956825355, 'border_count': 249, 'l2_leaf_reg': 2.2545068916701814}. Best is trial 36 with value: 0.9065420560747663.\n",
      "[I 2024-01-20 10:57:42,739] Trial 86 finished with value: 0.897196261682243 and parameters: {'iterations': 321, 'depth': 7, 'learning_rate': 0.03872714580504367, 'random_strength': 0.5781028119867633, 'bagging_temperature': 0.30378356438079995, 'border_count': 203, 'l2_leaf_reg': 8.697139402537905}. Best is trial 36 with value: 0.9065420560747663.\n",
      "[I 2024-01-20 10:57:45,460] Trial 87 finished with value: 0.8878504672897196 and parameters: {'iterations': 892, 'depth': 6, 'learning_rate': 0.07716057700270702, 'random_strength': 0.8371802724443387, 'bagging_temperature': 0.6668701907768401, 'border_count': 137, 'l2_leaf_reg': 7.890889158469233}. Best is trial 36 with value: 0.9065420560747663.\n",
      "[I 2024-01-20 10:57:47,539] Trial 88 finished with value: 0.897196261682243 and parameters: {'iterations': 847, 'depth': 4, 'learning_rate': 0.028744807232729284, 'random_strength': 0.5218737249843126, 'bagging_temperature': 0.6316957382888186, 'border_count': 255, 'l2_leaf_reg': 8.18479570041807}. Best is trial 36 with value: 0.9065420560747663.\n",
      "[I 2024-01-20 10:57:50,039] Trial 89 finished with value: 0.8878504672897196 and parameters: {'iterations': 377, 'depth': 8, 'learning_rate': 0.04832978897816309, 'random_strength': 0.3022446131509624, 'bagging_temperature': 0.79689701782886, 'border_count': 151, 'l2_leaf_reg': 4.863250043318009}. Best is trial 36 with value: 0.9065420560747663.\n",
      "[I 2024-01-20 10:57:51,603] Trial 90 finished with value: 0.8878504672897196 and parameters: {'iterations': 510, 'depth': 5, 'learning_rate': 0.011120320119083146, 'random_strength': 0.6202043572628573, 'bagging_temperature': 0.5255323523915763, 'border_count': 144, 'l2_leaf_reg': 4.378315714618465}. Best is trial 36 with value: 0.9065420560747663.\n",
      "[I 2024-01-20 10:57:53,257] Trial 91 finished with value: 0.8878504672897196 and parameters: {'iterations': 696, 'depth': 4, 'learning_rate': 0.04169534988613951, 'random_strength': 0.15322331763975047, 'bagging_temperature': 0.3393223395733893, 'border_count': 215, 'l2_leaf_reg': 9.460941925705358}. Best is trial 36 with value: 0.9065420560747663.\n",
      "[I 2024-01-20 10:57:54,729] Trial 92 finished with value: 0.897196261682243 and parameters: {'iterations': 718, 'depth': 4, 'learning_rate': 0.04562461698406066, 'random_strength': 0.21620253068814732, 'bagging_temperature': 0.40608012975953955, 'border_count': 210, 'l2_leaf_reg': 9.122368319977467}. Best is trial 36 with value: 0.9065420560747663.\n",
      "[I 2024-01-20 10:57:56,588] Trial 93 finished with value: 0.8878504672897196 and parameters: {'iterations': 927, 'depth': 4, 'learning_rate': 0.05774524894915209, 'random_strength': 0.7631238818129593, 'bagging_temperature': 0.362361340573014, 'border_count': 188, 'l2_leaf_reg': 9.697851383173845}. Best is trial 36 with value: 0.9065420560747663.\n",
      "[I 2024-01-20 10:57:58,198] Trial 94 finished with value: 0.8878504672897196 and parameters: {'iterations': 627, 'depth': 4, 'learning_rate': 0.049135855339176804, 'random_strength': 0.09186567450163469, 'bagging_temperature': 0.29395082095016467, 'border_count': 242, 'l2_leaf_reg': 8.942626909152992}. Best is trial 36 with value: 0.9065420560747663.\n",
      "[I 2024-01-20 10:58:00,342] Trial 95 finished with value: 0.8598130841121495 and parameters: {'iterations': 753, 'depth': 5, 'learning_rate': 0.0037972090931314238, 'random_strength': 0.7315760403817444, 'bagging_temperature': 0.2617308971717821, 'border_count': 229, 'l2_leaf_reg': 9.868379930268233}. Best is trial 36 with value: 0.9065420560747663.\n",
      "[I 2024-01-20 10:58:01,968] Trial 96 finished with value: 0.8878504672897196 and parameters: {'iterations': 821, 'depth': 4, 'learning_rate': 0.05461587782702203, 'random_strength': 0.42914497818139724, 'bagging_temperature': 0.602018683186583, 'border_count': 109, 'l2_leaf_reg': 9.236881454413147}. Best is trial 36 with value: 0.9065420560747663.\n",
      "[I 2024-01-20 10:58:08,381] Trial 97 finished with value: 0.8878504672897196 and parameters: {'iterations': 581, 'depth': 9, 'learning_rate': 0.016881963287605863, 'random_strength': 0.3522135539806056, 'bagging_temperature': 0.4506143496574549, 'border_count': 174, 'l2_leaf_reg': 5.2811201481645496}. Best is trial 36 with value: 0.9065420560747663.\n",
      "[I 2024-01-20 10:58:09,547] Trial 98 finished with value: 0.8598130841121495 and parameters: {'iterations': 464, 'depth': 5, 'learning_rate': 0.0900431614962913, 'random_strength': 0.3807948261452593, 'bagging_temperature': 0.5692496688176624, 'border_count': 224, 'l2_leaf_reg': 5.866357030701503}. Best is trial 36 with value: 0.9065420560747663.\n",
      "[I 2024-01-20 10:58:11,736] Trial 99 finished with value: 0.8878504672897196 and parameters: {'iterations': 671, 'depth': 6, 'learning_rate': 0.038435411920191606, 'random_strength': 0.8633927635066785, 'bagging_temperature': 0.6921582219370844, 'border_count': 194, 'l2_leaf_reg': 9.47655092060786}. Best is trial 36 with value: 0.9065420560747663.\n"
     ]
    }
   ],
   "source": [
    "# creating a study\n",
    "study= optuna.create_study(direction= 'maximize')\n",
    "study.optimize(objective, n_trials= 100)"
   ]
  },
  {
   "cell_type": "code",
   "execution_count": 80,
   "id": "eaef660c-bfa1-4d4c-8239-730bd2cf15be",
   "metadata": {},
   "outputs": [
    {
     "name": "stdout",
     "output_type": "stream",
     "text": [
      "Best Hyperparameters:\n",
      "{'iterations': 428, 'depth': 7, 'learning_rate': 0.020201227691164496, 'random_strength': 0.7400708896672612, 'bagging_temperature': 0.5271254575335044, 'border_count': 255, 'l2_leaf_reg': 5.2776107590361985}\n"
     ]
    }
   ],
   "source": [
    "best_parameters= study.best_params\n",
    "print(f'Best Hyperparameters:\\n{best_parameters}')"
   ]
  },
  {
   "cell_type": "code",
   "execution_count": 81,
   "id": "2ac357ed-57dd-4846-90ee-570674d16a4b",
   "metadata": {},
   "outputs": [],
   "source": [
    "best_model= CatBoostClassifier(**best_parameters,\n",
    "                               verbose= False)\n",
    "best_model.fit(train_features, train_target)\n",
    "test_target_prediction= best_model.predict(test_features)"
   ]
  },
  {
   "cell_type": "code",
   "execution_count": 82,
   "id": "a150427a-1383-4fc1-820a-428431e6216d",
   "metadata": {},
   "outputs": [],
   "source": [
    "ACC= accuracy_score(test_target, test_target_prediction)\n",
    "REC= recall_score(test_target, test_target_prediction)"
   ]
  },
  {
   "cell_type": "code",
   "execution_count": 83,
   "id": "2e65daa3-3e28-4c76-b166-c6f2e6716b90",
   "metadata": {},
   "outputs": [
    {
     "name": "stdout",
     "output_type": "stream",
     "text": [
      "ACC: 88.587 %\n",
      "REC: 89.720 %\n"
     ]
    }
   ],
   "source": [
    "print(f'ACC: {ACC*100:.3f} %\\nREC: {REC*100:.3f} %')"
   ]
  },
  {
   "cell_type": "code",
   "execution_count": 84,
   "id": "44953d23-5c7a-4ee9-ac2a-09474c335312",
   "metadata": {},
   "outputs": [
    {
     "data": {
      "image/png": "[encoded data removed]",
      "text/plain": [
       "<Figure size 400x400 with 1 Axes>"
      ]
     },
     "metadata": {},
     "output_type": "display_data"
    }
   ],
   "source": [
    "plot_CM(test_target, test_target_prediction)"
   ]
  },
  {
   "cell_type": "markdown",
   "id": "18ebd513-a3d0-487f-9ab3-34afb0493866",
   "metadata": {},
   "source": [
    "#### Experimentation Log:\n",
    "```python\n",
    "Experiment 1:\n",
    "CatBoostClassifier( ):\n",
    "\n",
    "ACC: 88.587 %\n",
    "REC: 89.720 %\n",
    "\n",
    "Experiment 2:\n",
    "CatBoostClassifier('iterations': 611, \n",
    "                   'depth': 8, \n",
    "                   'learning_rate': 0.03312655314709268,\n",
    "                   'random_strength': 0.849836691558517, \n",
    "                   'bagging_temperature': 0.6139594655180022, \n",
    "                   'border_count': 190, \n",
    "                   'l2_leaf_reg': 7.853945265976367):\n",
    "\n",
    "ACC: 88.043 %\r\n",
    "REC: 89.720 \n",
    "\n",
    "Experiment 3:\n",
    "CatBoostClassifier('iterations': 140, \n",
    "                   'depth': 6, \n",
    "                   'learning_rate': 0.06103212591097244, \n",
    "                   'random_strength': 0.7146091182619464, \n",
    "                   'bagging_temperature': 0.7569038177960598, \n",
    "                   'border_count': 76, \n",
    "                   'l2_leaf_reg': 4.660597952852741):\n",
    "\n",
    "ACC: 89.674 %\r\n",
    "REC: 91.589 %%\n",
    "```"
   ]
  }
 ],
 "metadata": {
  "kernelspec": {
   "display_name": "Python 3 (ipykernel)",
   "language": "python",
   "name": "python3"
  },
  "language_info": {
   "codemirror_mode": {
    "name": "ipython",
    "version": 3
   },
   "file_extension": ".py",
   "mimetype": "text/x-python",
   "name": "python",
   "nbconvert_exporter": "python",
   "pygments_lexer": "ipython3",
   "version": "3.10.11"
  }
 },
 "nbformat": 4,
 "nbformat_minor": 5
}
